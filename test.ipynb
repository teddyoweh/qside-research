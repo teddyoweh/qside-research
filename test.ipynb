{
 "cells": [
  {
   "cell_type": "code",
   "execution_count": 20,
   "metadata": {},
   "outputs": [
    {
     "name": "stdout",
     "output_type": "stream",
     "text": [
      "<tr>\n",
      "<td id=\"expander17a0e92adae2488391729882b663421c\" nowrap=\"nowrap\" onclick=\"ToggleExpand(this.id)\">[+]</td>\n",
      "<td nowrap=\"nowrap\">\n",
      "\t\t\t\t\t\t\t\t\t\t\t\t\t        948.06\n",
      "\t\t\t\t\t\t\t\t\t\t\t\t        </td>\n",
      "<td nowrap=\"nowrap\">\n",
      "\t\t\t\t\t\t\t\t\t\t\t\t\t        04-2023-CF-182-A (BRADFORD COUNTY SHERIFFS OFFICE)\n",
      "\t\t\t\t\t\t\t\t\t\t\t\t        </td>\n",
      "<td nowrap=\"nowrap\">\n",
      "\t\t\t\t\t\t\t\t\t\t\t\t\t        PROB VIOLATION\n",
      "\t\t\t\t\t\t\t\t\t\t\t\t        </td>\n",
      "<td nowrap=\"nowrap\">\n",
      "\t\t\t\t\t\t\t\t\t\t\t\t\t        T\n",
      "\t\t\t\t\t\t\t\t\t\t\t\t        </td>\n",
      "<td nowrap=\"nowrap\">\n",
      "\t\t\t\t\t\t\t\t\t\t\t\t\t        FELONY\n",
      "\t\t\t\t\t\t\t\t\t\t\t\t        </td>\n",
      "<td nowrap=\"nowrap\">\n",
      "\t\t\t\t\t\t\t\t\t\t\t\t\t        NO BOND\n",
      "\t\t\t\t\t\t\t\t\t\t\t\t        </td>\n",
      "<tr><td colspan=\"8\" id=\"expanded17a0e92adae2488391729882b663421c\" nowrap=\"nowrap\" style=\"display:none;text-align:left\">FELONY</td></tr>\n",
      "</tr>\n",
      "<tr><td colspan=\"8\" id=\"expanded17a0e92adae2488391729882b663421c\" nowrap=\"nowrap\" style=\"display:none;text-align:left\">FELONY</td></tr>\n",
      "{'picture': 'http://smartweb.bradfordsheriff.org/smartwebclient/ViewImage.aspx?bookno=BCSO24JBN000337', 'charges': [{'statute': '948.06', 'court_case_number': '04-2023-CF-182-A (BRADFORD COUNTY SHERIFFS OFFICE)', 'charge': 'PROB VIOLATION', 'degree': 'T', 'level': 'FELONY', 'bond': 'NO BOND'}]}\n"
     ]
    }
   ],
   "source": [
    "import bs4\n",
    "import requests\n",
    "\n",
    "\n",
    "url = \"http://smartweb.bradfordsheriff.org/smartwebclient/Jail.aspx\"\n",
    "\n",
    "\n",
    "response = requests.get(url)\n",
    "\n",
    "\n",
    "soup = bs4.BeautifulSoup(response.text, \"html.parser\")\n",
    "\n",
    "\n",
    "inmate_details = {}\n",
    "\n",
    "\n",
    "body = soup.find(\"div\", id=\"JailInfo\")\n",
    "img = body.find(\"img\", src=True)\n",
    "if img:\n",
    "    inmate_details[\"picture\"] = f\"http://smartweb.bradfordsheriff.org/smartwebclient/{img['src']}\"\n",
    "\n",
    "\n",
    "\n",
    "tr_tags = body.find_all(\"tr\")\n",
    "for tr in tr_tags:\n",
    "    if 'class' not in tr.attrs or 'InmateRecordRow' not in tr.attrs['class']:\n",
    "        continue\n",
    "    name_td = tr.find(\"td\", class_=\"SearchHeader\")\n",
    "    if name_td:\n",
    "        inmate_details[\"name\"] = name_td.text.strip()\n",
    "    \n",
    "    info_grid = tr.find_all(\"td\", class_=\"InmateInfoGridTd\")\n",
    "    for i in range(len(info_grid)):\n",
    "        if info_grid[i].text.strip() == \"Booking No:\":\n",
    "            inmate_details[\"booking_no\"] = info_grid[i+1].text.strip()\n",
    "            break\n",
    "\n",
    "\n",
    "charges_table = soup.find(\"table\", id=\"JailViewCharges\")\n",
    "charges = []\n",
    "if charges_table:\n",
    "    charge_rows = charges_table.find_all(\"tr\")[2:]  \n",
    "    for row in charge_rows:\n",
    "        cols = row.find_all(\"td\")\n",
    " \n",
    "        if len(cols) > 4:  \n",
    "            charge_detail = {\n",
    "                \"statute\": cols[1].text.strip(),\n",
    "                \"court_case_number\": cols[2].text.strip(),\n",
    "                \"charge\": cols[3].text.strip(),\n",
    "                \"degree\": cols[4].text.strip(),\n",
    "                \"level\": cols[5].text.strip(),\n",
    "                \"bond\": cols[6].text.strip(),\n",
    "            }\n",
    "            charges.append(charge_detail)\n",
    "inmate_details[\"charges\"] = charges\n",
    "\n",
    "\n",
    "print(inmate_details)\n"
   ]
  },
  {
   "cell_type": "code",
   "execution_count": 17,
   "metadata": {},
   "outputs": [],
   "source": []
  },
  {
   "cell_type": "code",
   "execution_count": 18,
   "metadata": {},
   "outputs": [
    {
     "data": {
      "text/plain": [
       "{'picture': 'http://smartweb.bradfordsheriff.org/smartwebclient/ViewImage.aspx?bookno=BCSO24JBN000337'}"
      ]
     },
     "execution_count": 18,
     "metadata": {},
     "output_type": "execute_result"
    }
   ],
   "source": [
    "hashmap"
   ]
  },
  {
   "cell_type": "code",
   "execution_count": null,
   "metadata": {},
   "outputs": [],
   "source": []
  }
 ],
 "metadata": {
  "kernelspec": {
   "display_name": "Python 3",
   "language": "python",
   "name": "python3"
  },
  "language_info": {
   "codemirror_mode": {
    "name": "ipython",
    "version": 3
   },
   "file_extension": ".py",
   "mimetype": "text/x-python",
   "name": "python",
   "nbconvert_exporter": "python",
   "pygments_lexer": "ipython3",
   "version": "3.9.6"
  }
 },
 "nbformat": 4,
 "nbformat_minor": 2
}
